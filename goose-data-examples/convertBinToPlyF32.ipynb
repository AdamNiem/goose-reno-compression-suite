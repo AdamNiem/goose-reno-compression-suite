{
 "cells": [
  {
   "cell_type": "code",
   "execution_count": 2,
   "id": "2afe8002-84d2-44ac-8453-8dba22dcc99b",
   "metadata": {
    "tags": []
   },
   "outputs": [
    {
     "name": "stdout",
     "output_type": "stream",
     "text": [
      "Saved: /home/aniemcz/gooseReno/goose-data-examples/2023-04-20_campus__0286_1681996776758328417_vls128.ply\n",
      "Saved: /home/aniemcz/gooseReno/goose-data-examples/alice_scenario02_sequence02_0007_1697207736943628000_pcl.ply\n",
      "Saved: /home/aniemcz/gooseReno/goose-data-examples/spot_scenario03_sequence03_0019_1702466776539962000_pcl.ply\n"
     ]
    }
   ],
   "source": [
    "import numpy as np\n",
    "from plyfile import PlyData, PlyElement\n",
    "\n",
    "def read_goose_bin(bin_path):\n",
    "    \"\"\"Read binary point cloud file (x,y,z,?) format\"\"\"\n",
    "    scan = np.fromfile(bin_path, dtype=np.float32).reshape(-1, 4)\n",
    "    return scan[:, :3]  # Return just x,y,z coordinates\n",
    "\n",
    "def save_as_ply(coords, output_path):\n",
    "    \"\"\"Save coordinates as ASCII PLY with float32 precision using plyfile\"\"\"\n",
    "    # Create structured array for PLY data\n",
    "    vertices = np.empty(coords.shape[0], dtype=[\n",
    "        ('x', 'f4'),\n",
    "        ('y', 'f4'),\n",
    "        ('z', 'f4')\n",
    "    ])\n",
    "    vertices['x'] = coords[:, 0]\n",
    "    vertices['y'] = coords[:, 1]\n",
    "    vertices['z'] = coords[:, 2]\n",
    "    \n",
    "    # Create and save PLY\n",
    "    el = PlyElement.describe(vertices, 'vertex')\n",
    "    PlyData([el], text=True).write(output_path)\n",
    "    print(f\"Saved: {output_path}\")\n",
    "\n",
    "# List of binary files to convert\n",
    "bin_paths = [\n",
    "    \"/home/aniemcz/gooseReno/goose-data-examples/2023-04-20_campus__0286_1681996776758328417_vls128.bin\",\n",
    "    \"/home/aniemcz/gooseReno/goose-data-examples/alice_scenario02_sequence02_0007_1697207736943628000_pcl.bin\",\n",
    "    \"/home/aniemcz/gooseReno/goose-data-examples/spot_scenario03_sequence03_0019_1702466776539962000_pcl.bin\",\n",
    "]\n",
    "\n",
    "# Convert each file\n",
    "for bin_path in bin_paths:\n",
    "    coords = read_goose_bin(bin_path)\n",
    "    ply_path = bin_path.replace(\".bin\", \".ply\")\n",
    "    save_as_ply(coords, ply_path)"
   ]
  },
  {
   "cell_type": "code",
   "execution_count": null,
   "id": "6b0609be-30cd-4c97-85bb-e2e2a7ce62fc",
   "metadata": {},
   "outputs": [],
   "source": []
  }
 ],
 "metadata": {
  "kernelspec": {
   "display_name": "lidarDataVisualEnv",
   "language": "python",
   "name": "lidardatavisualenv"
  },
  "language_info": {
   "codemirror_mode": {
    "name": "ipython",
    "version": 3
   },
   "file_extension": ".py",
   "mimetype": "text/x-python",
   "name": "python",
   "nbconvert_exporter": "python",
   "pygments_lexer": "ipython3",
   "version": "3.11.11"
  }
 },
 "nbformat": 4,
 "nbformat_minor": 5
}
