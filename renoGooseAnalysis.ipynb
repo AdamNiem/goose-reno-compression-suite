{
 "cells": [
  {
   "cell_type": "code",
   "execution_count": 2,
   "id": "38ee7c64-5838-4350-9057-d79169bbc47d",
   "metadata": {
    "tags": []
   },
   "outputs": [
    {
     "data": {
      "text/plain": [
       "'/home/aniemcz/gooseReno'"
      ]
     },
     "execution_count": 2,
     "metadata": {},
     "output_type": "execute_result"
    }
   ],
   "source": [
    "import os\n",
    "os.getcwd()"
   ]
  },
  {
   "cell_type": "markdown",
   "id": "151cd5c8-5762-4e38-97a7-9b101b4a7f6f",
   "metadata": {},
   "source": [
    "# Run RENO, pretrained on Goose, on goose dataset"
   ]
  },
  {
   "cell_type": "code",
   "execution_count": 3,
   "id": "230fb418-8a5f-4674-85bd-e37ecbd7297c",
   "metadata": {
    "tags": []
   },
   "outputs": [],
   "source": [
    "reno_path = \"./RENO/\"\n",
    "ckpt_path = os.path.join(reno_path, \"model\", \"Goose\", \"ckpt.pt\")\n",
    "input_glob = \"RENO/data/goose_examples/*.ply\"\n",
    "output_folder = \"RENO/data/goose_compressed/\"\n",
    "decomp_folder = \"RENO/data/goose_decompressed/\"\n",
    "posQ = 128"
   ]
  },
  {
   "cell_type": "code",
   "execution_count": 4,
   "id": "b7ef00ec-a257-40a5-bdf6-a29b64dd65e3",
   "metadata": {},
   "outputs": [
    {
     "name": "stdout",
     "output_type": "stream",
     "text": [
      "\u001b[2K\u001b[32m⠁\u001b[0m activating environment                                                        Using /home/aniemcz/.cache/torch_extensions/py310_cu118 as PyTorch extensions root...\n",
      "Emitting ninja build file /home/aniemcz/.cache/torch_extensions/py310_cu118/torchac_backend/build.ninja...\n",
      "Building extension module torchac_backend...\n",
      "Allowing ninja to set a default number of workers... (overridable by setting the environment variable MAX_JOBS=N)\n",
      "ninja: no work to do.\n",
      "Loading extension module torchac_backend...\n",
      "Loading point clouds...\n",
      "100%|█████████████████████████████████████████████| 3/3 [00:01<00:00,  2.64it/s]\n",
      "Traceback (most recent call last):\n",
      "  File \"/home/aniemcz/gooseReno/RENO/compress.py\", line 68, in <module>\n",
      "    net(SparseTensor(coords=torch.cat((random_coords[:, 0:1]*0, random_coords), dim=-1),\n",
      "  File \"/home/aniemcz/gooseReno/.pixi/envs/default/lib/python3.10/site-packages/torch/nn/modules/module.py\", line 1511, in _wrapped_call_impl\n",
      "    return self._call_impl(*args, **kwargs)\n",
      "  File \"/home/aniemcz/gooseReno/.pixi/envs/default/lib/python3.10/site-packages/torch/nn/modules/module.py\", line 1520, in _call_impl\n",
      "    return forward_call(*args, **kwargs)\n",
      "  File \"/home/aniemcz/gooseReno/RENO/network.py\", line 90, in forward\n",
      "    gt_x_up_O_s0 = torch.remainder(gt_x_up_O, 16) # 8-4-2-1\n",
      "RuntimeError: CUDA error: invalid configuration argument\n",
      "CUDA kernel errors might be asynchronously reported at some other API call, so the stacktrace below might be incorrect.\n",
      "For debugging consider passing CUDA_LAUNCH_BLOCKING=1.\n",
      "Compile with `TORCH_USE_CUDA_DSA` to enable device-side assertions.\n",
      "\n"
     ]
    }
   ],
   "source": [
    "!pixi run python RENO/compress.py \\\n",
    "    --input_glob='{input_glob}' \\\n",
    "    --output_folder='{output_folder}' \\\n",
    "    --ckpt='{ckpt_path}' \\\n",
    "    --posQ={posQ}"
   ]
  },
  {
   "cell_type": "code",
   "execution_count": 4,
   "id": "eb700fbd-c5a7-4d26-89f0-9ec12198e53d",
   "metadata": {
    "tags": []
   },
   "outputs": [
    {
     "name": "stdout",
     "output_type": "stream",
     "text": [
      "\u001b[2K\u001b[32m⠁\u001b[0m activating environment                                                        Using /home/aniemcz/.cache/torch_extensions/py310_cu118 as PyTorch extensions root...\n",
      "Emitting ninja build file /home/aniemcz/.cache/torch_extensions/py310_cu118/torchac_backend/build.ninja...\n",
      "Building extension module torchac_backend...\n",
      "Allowing ninja to set a default number of workers... (overridable by setting the environment variable MAX_JOBS=N)\n",
      "ninja: no work to do.\n",
      "Loading extension module torchac_backend...\n",
      "100%|█████████████████████████████████████████████| 3/3 [00:03<00:00,  1.04s/it]\n",
      "Total: 3 | Decode Time:0.289 | Max GPU Memory:487.89MB\n"
     ]
    }
   ],
   "source": [
    "!pixi run python RENO/decompress.py \\\n",
    "    --input_glob='{output_folder}*.bin' \\\n",
    "    --output_folder='{decomp_folder}' \\\n",
    "    --ckpt='{ckpt_path}'"
   ]
  },
  {
   "cell_type": "code",
   "execution_count": 43,
   "id": "49f98ec7-2868-4878-8e5d-1aa63efaa13c",
   "metadata": {
    "tags": []
   },
   "outputs": [
    {
     "name": "stdout",
     "output_type": "stream",
     "text": [
      "Total size: original 14375302 bytes and       compressed 742121 bytes for posQ = 8\n",
      "Compress Ratio: 19.370563560389748\n"
     ]
    }
   ],
   "source": [
    "import os\n",
    "import glob\n",
    "\n",
    "# Set your glob pattern here\n",
    "og_file_paths = glob.glob(input_glob, recursive=True)\n",
    "compressed_file_paths = glob.glob(os.path.join(output_folder, \"*.bin\"), recursive=True)\n",
    "\n",
    "original_total_size_bytes = sum(os.path.getsize(f) for f in og_file_paths if os.path.isfile(f))\n",
    "compressed_total_size_bytes = sum(os.path.getsize(f) for f in compressed_file_paths if os.path.isfile(f))\n",
    "\n",
    "print(f\"Total size: original {original_total_size_bytes} bytes and \\\n",
    "      compressed {compressed_total_size_bytes} bytes for posQ = {posQ}\")\n",
    "\n",
    "print(f\"Compress Ratio: { original_total_size_bytes / compressed_total_size_bytes }\")"
   ]
  },
  {
   "cell_type": "code",
   "execution_count": 44,
   "id": "76a18930-d3aa-4e24-946e-c02068d334ee",
   "metadata": {
    "tags": []
   },
   "outputs": [],
   "source": [
    "#14375302"
   ]
  },
  {
   "cell_type": "code",
   "execution_count": null,
   "id": "41112fc9-5670-409c-a41c-b509d3435414",
   "metadata": {},
   "outputs": [],
   "source": [
    "'''\n",
    "Goose on 3 files:\n",
    "Original Total Size of the 3 files: 14375302\n",
    "QP | Total: Files | Avg. Bpp: Num   | Encode time: Sec  | Max GPU Memory: MB        | Compression Ratio | Comp Size\n",
    "8  | Total: 3     | Avg. Bpp:10.434 | Encode time:0.208 | Max GPU Memory:559.12MB   | 19.37             | 742121\n",
    "16 | Total: 3     | Avg. Bpp:7.780  | Encode time:0.160 | Max GPU Memory:525.03MB   | 25.77             | 557836\n",
    "32 | Total: 3     | Avg. Bpp:5.425  | Encode time:0.118 | Max GPU Memory:436.84MB   | 36.52             | 393672\n",
    "64 | Total: 3     | Avg. Bpp:3.452  | Encode time:0.087 | Max GPU Memory:304.72MB   | 57.00             | 252237\n",
    "128| Total: 3     | Avg. Bpp:1.972  | Encode time:0.060 | Max GPU Memory:170.15MB   | 100.46            | 143096\n",
    "256| Total: 3     | Avg. Bpp:0.985  | Encode time:0.039 | Max GPU Memory:80.76MB    | 203.97            | 70478\n",
    "512| Total: 3     | Avg. Bpp:0.422  | Encode time:0.031 | Max GPU Memory:47.31MB    | 489.69            | 29356\n",
    "'''"
   ]
  },
  {
   "cell_type": "markdown",
   "id": "67309e89-2ee9-455f-8dbd-c66f46068797",
   "metadata": {},
   "source": [
    "### Print out compression Ratio of RENO"
   ]
  },
  {
   "cell_type": "code",
   "execution_count": 48,
   "id": "c1a7ceeb-1b96-4d19-a144-875b74df598f",
   "metadata": {
    "tags": []
   },
   "outputs": [
    {
     "name": "stdout",
     "output_type": "stream",
     "text": [
      "Compression ratio is 1.9963850418895484\n"
     ]
    }
   ],
   "source": [
    "#og_ply_path = \"./data/og/exaalt-copper-ds1-fr0.ply\"\n",
    "#cmp_ply_path = \"./data/compressed/reno/exaalt-copper-ds1-fr0.ply.bin\"\n",
    "\n",
    "#os.path.getsize returns size in bytes\n",
    "#og_ply_size = os.path.getsize(og_ply_path)\n",
    "#decmp_ply_size = os.path.getsize(decmp_ply_path)\n",
    "\n",
    "#print(f\"Compression ratio is {og_ply_size / decmp_ply_size}\")"
   ]
  },
  {
   "cell_type": "markdown",
   "id": "ecb84427-c09e-4a8a-a69a-9a86906ef7e2",
   "metadata": {
    "tags": []
   },
   "source": [
    "# Run our custom PSNR script on RENO"
   ]
  },
  {
   "cell_type": "code",
   "execution_count": 1,
   "id": "91bda1d9-2f13-40b8-880f-31a75dd65015",
   "metadata": {
    "tags": []
   },
   "outputs": [],
   "source": [
    "og_ply_path = 1"
   ]
  },
  {
   "cell_type": "code",
   "execution_count": 49,
   "id": "cb36169f-bf9a-442b-9999-1d8b6d4dc3e8",
   "metadata": {
    "tags": []
   },
   "outputs": [
    {
     "name": "stdout",
     "output_type": "stream",
     "text": [
      "MSE: 323.706607\n",
      "PSNR: 8.67 dB\n"
     ]
    }
   ],
   "source": [
    "!source activate lidarDataVisualEnv && \\\n",
    "python3 psnr_ply.py {og_ply_path} ./data/decompressed/reno/exaalt-copper-ds1-fr0.ply.bin.ply"
   ]
  },
  {
   "cell_type": "code",
   "execution_count": null,
   "id": "f4e5df2f-24c7-465e-ab6e-288d6ac80da8",
   "metadata": {},
   "outputs": [],
   "source": [
    "import nump as np\n"
   ]
  }
 ],
 "metadata": {
  "kernelspec": {
   "display_name": "lidarDataVisualEnv",
   "language": "python",
   "name": "lidardatavisualenv"
  },
  "language_info": {
   "codemirror_mode": {
    "name": "ipython",
    "version": 3
   },
   "file_extension": ".py",
   "mimetype": "text/x-python",
   "name": "python",
   "nbconvert_exporter": "python",
   "pygments_lexer": "ipython3",
   "version": "3.11.11"
  }
 },
 "nbformat": 4,
 "nbformat_minor": 5
}
